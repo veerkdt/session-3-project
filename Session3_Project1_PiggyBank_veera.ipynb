{
 "cells": [
  {
   "cell_type": "code",
   "execution_count": 1,
   "metadata": {},
   "outputs": [
    {
     "name": "stdout",
     "output_type": "stream",
     "text": [
      "Hello, Welcome to Foster school Piggy Bank\n",
      "\n",
      "Please begin with creating an account\n",
      "Enter your Name: MANOJ KUMAR G\n",
      "Enter your Class: 10\n",
      "Enter your Section: A\n",
      "Please enter a 4 digit pin to use as your passcode: 0987\n"
     ]
    }
   ],
   "source": [
    "print(\"Hello, Welcome to Foster school Piggy Bank\")\n",
    "print(\"\")\n",
    "print(\"Please begin with creating an account\")\n",
    "name=input(\"Enter your Name: \")\n",
    "phone=input(\"Enter your Class: \")\n",
    "address=input(\"Enter your Section: \")\n",
    "code=input(\"Please enter a 4 digit pin to use as your passcode: \")\n"
   ]
  },
  {
   "cell_type": "code",
   "execution_count": 2,
   "metadata": {},
   "outputs": [
    {
     "name": "stdout",
     "output_type": "stream",
     "text": [
      "\n",
      "Your account summary is:\n",
      "Name:MANOJ KUMAR G\n",
      "Phone Number:10\n",
      "Address:A\n",
      "Pin Code:0987\n",
      "\n",
      "Enter an amount to deposit into the account: 100\n",
      "\n",
      "MANOJ KUMAR G , Thank you for creating an account.\n"
     ]
    }
   ],
   "source": [
    "print()\n",
    "print(\"Your account summary is:\")\n",
    "print(\"Name:\" + name)\n",
    "print(\"Phone Number:\" + phone)     \n",
    "print(\"Address:\" + address)\n",
    "print(\"Pin Code:\" + code)    \n",
    "print()\n",
    "balance=float(input(\"Enter an amount to deposit into the account: \"))\n",
    "print()\n",
    "print(name,\", Thank you for creating an account.\")\n",
    "def printMenu():\n",
    "    print()\n",
    "    print(\"Please choose an option below:\")\n",
    "    print(\"\"\"\n",
    "    Enter b to Check your Balance\n",
    "    Enter d to Deposit money into your Account\n",
    "    Enter w to Withdraw money from your Account\n",
    "    Enter q to Quit the Program \"\"\")\n",
    "    print(\"\")\n",
    "\n",
    "def getTransaction():\n",
    "    transaction=str(input(\"What would you like to do? \"))\n",
    "    return transaction\n",
    "def withdraw(bal,amt):\n",
    "    global balance\n",
    "    balance=bal-amt\n",
    "    if balance<0:\n",
    "        balance=balance-10\n",
    "\n",
    "def formatCurrency(amt):\n",
    "    return \"$%.2f\" %amt"
   ]
  },
  {
   "cell_type": "code",
   "execution_count": 3,
   "metadata": {},
   "outputs": [
    {
     "name": "stdout",
     "output_type": "stream",
     "text": [
      "\n",
      "Please choose an option below:\n",
      "\n",
      "    Enter b to Check your Balance\n",
      "    Enter d to Deposit money into your Account\n",
      "    Enter w to Withdraw money from your Account\n",
      "    Enter q to Quit the Program \n",
      "\n",
      "What would you like to do? b\n",
      "MANOJ KUMAR G Your current balance is $100.00\n",
      "\n",
      "Please choose an option below:\n",
      "\n",
      "    Enter b to Check your Balance\n",
      "    Enter d to Deposit money into your Account\n",
      "    Enter w to Withdraw money from your Account\n",
      "    Enter q to Quit the Program \n",
      "\n",
      "What would you like to do? w\n",
      "Amount to withdraw? 25\n",
      "\n",
      "Please choose an option below:\n",
      "\n",
      "    Enter b to Check your Balance\n",
      "    Enter d to Deposit money into your Account\n",
      "    Enter w to Withdraw money from your Account\n",
      "    Enter q to Quit the Program \n",
      "\n",
      "What would you like to do? b\n",
      "MANOJ KUMAR G Your current balance is $75.00\n",
      "\n",
      "Please choose an option below:\n",
      "\n",
      "    Enter b to Check your Balance\n",
      "    Enter d to Deposit money into your Account\n",
      "    Enter w to Withdraw money from your Account\n",
      "    Enter q to Quit the Program \n",
      "\n",
      "What would you like to do? d\n",
      "Amount to deposit? 15\n",
      "\n",
      "Please choose an option below:\n",
      "\n",
      "    Enter b to Check your Balance\n",
      "    Enter d to Deposit money into your Account\n",
      "    Enter w to Withdraw money from your Account\n",
      "    Enter q to Quit the Program \n",
      "\n",
      "What would you like to do? b\n",
      "MANOJ KUMAR G Your current balance is $90.00\n",
      "\n",
      "Please choose an option below:\n",
      "\n",
      "    Enter b to Check your Balance\n",
      "    Enter d to Deposit money into your Account\n",
      "    Enter w to Withdraw money from your Account\n",
      "    Enter q to Quit the Program \n",
      "\n",
      "What would you like to do? q\n",
      "MANOJ KUMAR G Goodbye! See you again soon\n"
     ]
    }
   ],
   "source": [
    "printMenu()\n",
    "command=str(getTransaction())\n",
    "\n",
    "while command!=\"q\":\n",
    "    if (command==\"b\"):\n",
    "        print(name,\"Your current balance is\",formatCurrency(balance))\n",
    "        printMenu()\n",
    "        command=str(getTransaction())\n",
    "    elif (command==\"d\"):\n",
    "        amount=float(input(\"Amount to deposit? \"))\n",
    "        balance=balance+amount\n",
    "        printMenu()\n",
    "        command=str(getTransaction())\n",
    "    elif (command==\"w\"):\n",
    "        amount=float(input(\"Amount to withdraw? \"))\n",
    "        withdraw(balance,amount)\n",
    "        printMenu()\n",
    "        command=str(getTransaction())\n",
    "    else:\n",
    "        print(\"Incorrect command. Please try again.\")\n",
    "        printMenu()\n",
    "        command=str(getTransaction())\n",
    "        \n",
    "print(name,\"Goodbye! See you again soon\")"
   ]
  },
  {
   "cell_type": "code",
   "execution_count": null,
   "metadata": {},
   "outputs": [],
   "source": []
  }
 ],
 "metadata": {
  "kernelspec": {
   "display_name": "Python 3",
   "language": "python",
   "name": "python3"
  },
  "language_info": {
   "codemirror_mode": {
    "name": "ipython",
    "version": 3
   },
   "file_extension": ".py",
   "mimetype": "text/x-python",
   "name": "python",
   "nbconvert_exporter": "python",
   "pygments_lexer": "ipython3",
   "version": "3.7.0"
  }
 },
 "nbformat": 4,
 "nbformat_minor": 2
}
